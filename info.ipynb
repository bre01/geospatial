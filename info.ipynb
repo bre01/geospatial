{
 "cells": [
  {
   "cell_type": "code",
   "execution_count": 50,
   "metadata": {},
   "outputs": [
    {
     "data": {
      "text/plain": [
       "'\\ndata.loc[data[\\'temp\\'].astype(int,errors=\"ignore\")>=66,\\'temp\\']=\"m\"\\ndata.loc[data[\\'temp\\'].astype(int,errors=\"ignore\")>=78,\\'temp\\']=\"h\"\\ndata.loc[data[\\'temp\\'].astype(int,erros=\"ignore_errors\")<66,\\'temp\\']=\"l\"\\ndata.loc[data[\\'wet\\'].astype(int,errors=\"ignore\")>=70,\\'wet\\']=\"h\"\\ndata.loc[data[\\'wet\\'].astype(int,errors=\"ignore\")<70,\\'wet\\']=\"l\"\\n'"
      ]
     },
     "execution_count": 50,
     "metadata": {},
     "output_type": "execute_result"
    }
   ],
   "source": [
    "from codecs import ignore_errors\n",
    "from re import M\n",
    "import pandas as pd\n",
    "data=pd.read_csv(\"wind.csv\")\n",
    "\n",
    "\n",
    "'''\n",
    "data.loc[data['temp'].astype(int,errors=\"ignore\")>=66,'temp']=\"m\"\n",
    "data.loc[data['temp'].astype(int,errors=\"ignore\")>=78,'temp']=\"h\"\n",
    "data.loc[data['temp'].astype(int,erros=\"ignore_errors\")<66,'temp']=\"l\"\n",
    "data.loc[data['wet'].astype(int,errors=\"ignore\")>=70,'wet']=\"h\"\n",
    "data.loc[data['wet'].astype(int,errors=\"ignore\")<70,'wet']=\"l\"\n",
    "'''\n",
    "\n"
   ]
  },
  {
   "cell_type": "code",
   "execution_count": 56,
   "metadata": {},
   "outputs": [
    {
     "name": "stdout",
     "output_type": "stream",
     "text": [
      "   weather temp wet wind go\n",
      "2        c    m   l    n  y\n",
      "4        r    l   l    n  y\n",
      "5        r    l   l    y  n\n",
      "6        c    l   l    y  y\n",
      "8        s    l   l    n  y\n",
      "9        r    l   l    n  y\n",
      "10       s    l   l    y  y\n",
      "12       c    m   l    n  y\n",
      "13       r    l   l    y  n\n",
      "   weather temp wet wind go\n",
      "0        s    m   h    n  n\n",
      "1        s    m   h    y  n\n",
      "3        r    l   h    n  y\n",
      "7        s    m   h    n  n\n",
      "11       c    m   h    y  y\n"
     ]
    },
    {
     "data": {
      "text/plain": [
       "0.10224356360985054"
      ]
     },
     "execution_count": 56,
     "metadata": {},
     "output_type": "execute_result"
    }
   ],
   "source": [
    "from math import log\n",
    "\n",
    "log(4,2)\n",
    "\n",
    "def H(data,column):\n",
    "    freq=data[column].value_counts()\n",
    "    freq_sum=sum(freq)\n",
    "\n",
    "    ret=0\n",
    "    for count in freq:\n",
    "        #print(value,freq_sum)\n",
    "        ret+=oper(count,freq_sum)\n",
    "        \n",
    "    return ret\n",
    "\n",
    "\n",
    "def oper(count,sum):\n",
    "   return -((count/sum)*log(count/sum,2))\n",
    "H(data,\"go\")\n",
    "\n",
    "def A(data,column):\n",
    "    freq=data[column].value_counts()\n",
    "    freq_sum=sum(freq)\n",
    "    ret=0\n",
    "    for value,count in freq.items():\n",
    "        data_to_pass=data.loc[data[column]==value]\n",
    "        print(data_to_pass)\n",
    "        ret+=count/freq_sum*H(data_to_pass,\"go\")\n",
    "    return H(data,\"go\")-ret\n",
    "\n",
    "A(data,\"wet\")\n",
    "     \n",
    "\n",
    "\n",
    "\n",
    "    "
   ]
  },
  {
   "cell_type": "code",
   "execution_count": null,
   "metadata": {},
   "outputs": [],
   "source": []
  }
 ],
 "metadata": {
  "kernelspec": {
   "display_name": "geospatial",
   "language": "python",
   "name": "python3"
  },
  "language_info": {
   "codemirror_mode": {
    "name": "ipython",
    "version": 3
   },
   "file_extension": ".py",
   "mimetype": "text/x-python",
   "name": "python",
   "nbconvert_exporter": "python",
   "pygments_lexer": "ipython3",
   "version": "3.12.2"
  }
 },
 "nbformat": 4,
 "nbformat_minor": 2
}
