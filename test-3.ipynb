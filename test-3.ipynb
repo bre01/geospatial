{
 "cells": [
  {
   "cell_type": "code",
   "execution_count": null,
   "metadata": {},
   "outputs": [],
   "source": [
    "import numpy as np\n",
    "import pandas as pd\n",
    "from sklearn.cluster import KMeans\n",
    "import matplotlib.pyplot as plt\n",
    "\n",
    "data=pd.read_csv('data.csv',encoding='gbk')\n",
    "data.head()"
   ]
  },
  {
   "cell_type": "code",
   "execution_count": null,
   "metadata": {},
   "outputs": [],
   "source": [
    "def optimise_km(data,max_k):\n",
    "    means=[]\n",
    "    inertias=[]\n",
    "    for k in range(1,max_k):\n",
    "        kmeans=KMeans(n_clusters=k,random_state=1)\n",
    "        kmeans.fit(data)\n",
    "        means.append(k)\n",
    "        inertias.append(kmeans.inertia_)\n",
    "    \n",
    "    plt.figure(figsize=(5,5)) \n",
    "    plt.plot(means,inertias,'o-')\n",
    "    plt.xlabel('cluster number')\n",
    "    plt.ylabel('Inertia')\n",
    "    plt.grid(True)\n",
    "    plt.show()"
   ]
  },
  {
   "cell_type": "code",
   "execution_count": null,
   "metadata": {},
   "outputs": [],
   "source": [
    "optimise_km(data[['面积','周长','暴雨','比降','断层','岩性','最大高程','最小高程','相对高差','主沟长度']],10)"
   ]
  },
  {
   "cell_type": "code",
   "execution_count": null,
   "metadata": {},
   "outputs": [],
   "source": [
    "kmeans=KMeans(n_clusters=3,random_state=1)\n",
    "kmeans.fit(data[['面积','周长','暴雨','比降','断层','岩性','最大高程','最小高程','相对高差','主沟长度']])\n",
    "data['category']=kmeans.labels_\n",
    "# 将数据保存到新的csv文件中\n",
    "data.to_csv('k=3.csv', index=False)\n",
    "from sklearn.metrics import silhouette_score\n",
    "silhouette_avg = silhouette_score(data, data['category'])\n",
    "print(\"聚类结果的轮廓系数为:\", silhouette_avg)"
   ]
  },
  {
   "cell_type": "code",
   "execution_count": null,
   "metadata": {},
   "outputs": [],
   "source": [
    "kmeans=KMeans(n_clusters=4,random_state=1)\n",
    "kmeans.fit(data[['面积','周长','暴雨','比降','断层','岩性','最大高程','最小高程','相对高差','主沟长度']])\n",
    "data['category']=kmeans.labels_\n",
    "# 将数据保存到新的csv文件中\n",
    "data.to_csv('k=4.csv', index=False)\n",
    "from sklearn.metrics import silhouette_score\n",
    "silhouette_avg = silhouette_score(data, data['category'])\n",
    "print(\"聚类结果的轮廓系数为:\", silhouette_avg)"
   ]
  },
  {
   "cell_type": "code",
   "execution_count": null,
   "metadata": {},
   "outputs": [],
   "source": [
    "kmeans=KMeans(n_clusters=5,random_state=1)\n",
    "kmeans.fit(data[['面积','周长','暴雨','比降','断层','岩性','最大高程','最小高程','相对高差','主沟长度']])\n",
    "data['category']=kmeans.labels_\n",
    "# 将数据保存到新的csv文件中\n",
    "data.to_csv('k=5.csv', index=False)\n",
    "from sklearn.metrics import silhouette_score\n",
    "silhouette_avg = silhouette_score(data, data['category'])\n",
    "print(\"聚类结果的轮廓系数为:\", silhouette_avg)"
   ]
  }
 ],
 "metadata": {
  "kernelspec": {
   "display_name": "Python 3",
   "language": "python",
   "name": "python3"
  },
  "language_info": {
   "codemirror_mode": {
    "name": "ipython",
    "version": 3
   },
   "file_extension": ".py",
   "mimetype": "text/x-python",
   "name": "python",
   "nbconvert_exporter": "python",
   "pygments_lexer": "ipython3",
   "version": "3.9.18"
  }
 },
 "nbformat": 4,
 "nbformat_minor": 2
}
