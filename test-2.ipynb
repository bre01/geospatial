{
 "cells": [
  {
   "cell_type": "code",
   "execution_count": null,
   "metadata": {},
   "outputs": [],
   "source": [
    "import numpy as np\n",
    "import pandas as pd\n",
    "from sklearn.cluster import KMeans\n",
    "import matplotlib.pyplot as plt\n",
    "from scipy.spatial.distance import cdist\n",
    "\n",
    "data=pd.read_csv('data.csv',encoding='gbk')\n",
    "data.head()"
   ]
  },
  {
   "cell_type": "code",
   "execution_count": null,
   "metadata": {},
   "outputs": [],
   "source": [
    "###利用numpy自带的欧式距离求SSE\n",
    "K=range(1,10)\n",
    "meandistortions=[]\n",
    "for k in K:\n",
    "    km=KMeans(n_clusters=k,random_state=1)\n",
    "    km.fit(data)\n",
    "    meandistortions.append(\n",
    "        sum(\n",
    "   np.min(cdist(data,\n",
    "   km.cluster_centers_,'euclidean'),axis=1)\n",
    "        )\n",
    "    )\n",
    "plt.plot(K,meandistortions,'bx--')\n",
    "plt.xlabel('k')\n",
    "plt.show()"
   ]
  },
  {
   "cell_type": "code",
   "execution_count": null,
   "metadata": {},
   "outputs": [],
   "source": [
    "k_m=KMeans(init='k-means++',n_clusters=5,random_state=1)\n",
    "k_m.fit(data)\n",
    "label=k_m.fit_predict(data)\n",
    "label"
   ]
  },
  {
   "cell_type": "code",
   "execution_count": null,
   "metadata": {},
   "outputs": [],
   "source": [
    "dat_type=pd.DataFrame(label)\n",
    "dat_type.columns=['category']\n",
    "dat=pd.merge(data,dat_type,left_index=True,right_index=True)\n",
    "pd.set_option('display.max_rows',None)\n",
    "dat.sort_values('category')"
   ]
  },
  {
   "cell_type": "code",
   "execution_count": null,
   "metadata": {},
   "outputs": [],
   "source": [
    "label = k_m.labels_\n",
    "# 将聚类标签添加到原始数据中\n",
    "data['category'] = label\n",
    "# 将数据保存到新的csv文件中\n",
    "data.to_csv('result.csv', index=False)"
   ]
  },
  {
   "cell_type": "code",
   "execution_count": null,
   "metadata": {},
   "outputs": [],
   "source": [
    "###轮廓系数\n",
    "import pandas as pd\n",
    "from sklearn.cluster import KMeans\n",
    "from sklearn.metrics import silhouette_score\n",
    "import matplotlib.pyplot as plt\n",
    " \n",
    "df_features = pd.read_csv('data.csv',encoding='gbk')\n",
    "Scores = []  # 存放轮廓系数\n",
    "for k in range(2,10):\n",
    "    estimator = KMeans(n_clusters=k,random_state=1)  # 构造聚类器\n",
    "    estimator.fit(df_features)\n",
    "    Scores.append(silhouette_score(df_features,estimator.labels_,metric='euclidean'))\n",
    "X = range(2,10)\n",
    "plt.xlabel('k')\n",
    "plt.ylabel('Silhouette Coefficient')\n",
    "plt.plot(X,Scores,'o-')\n",
    "plt.show()"
   ]
  },
  {
   "cell_type": "code",
   "execution_count": null,
   "metadata": {},
   "outputs": [],
   "source": [
    "###利用kmeans算法自带的属性inertia_求SSE\n",
    "df_features = pd.read_csv('data.csv',encoding='gbk') # 读入数据\n",
    "'利用SSE选择k'\n",
    "SSE = []  # 存放每次结果的误差平方和\n",
    "for k in range(1,10):\n",
    "    estimator = KMeans(n_clusters=k,random_state=1)  # 构造聚类器\n",
    "    estimator.fit(df_features)\n",
    "    SSE.append(estimator.inertia_)\n",
    "X = range(1,10)\n",
    "plt.xlabel('k')\n",
    "plt.ylabel('SSE')\n",
    "plt.plot(X,SSE,'o-')\n",
    "plt.show()"
   ]
  }
 ],
 "metadata": {
  "kernelspec": {
   "display_name": "Python 3",
   "language": "python",
   "name": "python3"
  },
  "language_info": {
   "codemirror_mode": {
    "name": "ipython",
    "version": 3
   },
   "file_extension": ".py",
   "mimetype": "text/x-python",
   "name": "python",
   "nbconvert_exporter": "python",
   "pygments_lexer": "ipython3",
   "version": "3.9.18"
  }
 },
 "nbformat": 4,
 "nbformat_minor": 2
}
